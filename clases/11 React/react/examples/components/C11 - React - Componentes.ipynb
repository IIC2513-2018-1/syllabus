{
 "cells": [
  {
   "cell_type": "markdown",
   "metadata": {},
   "source": [
    "# Componentes en React"
   ]
  },
  {
   "cell_type": "markdown",
   "metadata": {},
   "source": [
    "En clases vimos que existen los *dumb*/*smart* *components*. Esta vez haremos un ejercicio que nos muestre cómo funciona esta separación de responsabilidades. Recuerda que los *dumb components* son los encargados de mostrar la parte visual, mientras que los *smart components* son los que tienen la lógica, estado y otros."
   ]
  },
  {
   "cell_type": "markdown",
   "metadata": {},
   "source": [
    "## Ejercicio\n",
    "\n",
    "¿Te acuerdas de este ejercicio?\n",
    "\n",
    "![ejemplo](https://i.imgur.com/kz5Gp8u.gif \"Ejemplo\")\n",
    "\n",
    "Si no te acuerdas, puedes revisar el ejercicio 6 de la clase en donde vimos JavaScript del lado del cliente.\n",
    "\n",
    "La idea principal es que podamos lograr el mismo comportamiento usando React. Tal como lo muestra la siguiente imagen:\n",
    "\n",
    "![ejemplo2](https://i.imgur.com/17H3Vj0.gif \"Ejemplo2\")"
   ]
  },
  {
   "cell_type": "markdown",
   "metadata": {},
   "source": [
    "## Primera parte - Obtener un post aleatoriamente\n",
    "\n",
    "Utilizaremos la API de pruebas disponible en https://jsonplaceholder.typicode.com/. Ahí hay un endpoint en donde es posible obtener posts, nosotros nos enfocaremos sólo en obtener el título y el cuerpo del post.\n",
    "\n",
    "La API tiene 100 posts que se pueden consultar a través de la dirección https://jsonplaceholder.typicode.com/posts/:id.\n",
    "\n",
    "Una buena separación de responsabilidades hace que todas estas llamadas no se hagan directamente en un componente de React, sino que esté disponible desde un objeto u otro. Esto ayuda a la organización de tu aplicación.\n",
    "\n",
    "Para continuar con tu ejercicio puedes bajar una copia de \"My University\", nuestro proyecto que hemos hecho en clases, o puedes hacerlo en tu proyecto semestral.\n",
    "\n",
    "Para obtener un post aleatoriamente haz lo siguiente:\n",
    "\n",
    "1. Crea una carpeta en `/src/assets/js/` que se llame `services`.\n",
    "2. Dentro de esa carpeta, crea un archivo que llame `posts.js`.\n",
    "3. Completa el archivo `posts.js` con el siguiente contenido:\n",
    "\n",
    "```javascript\n",
    "async function getRandomPost() {\n",
    "  // completar...\n",
    "}\n",
    "\n",
    "export default {\n",
    "  getRandomPost,\n",
    "};\n",
    "```\n",
    "\n",
    "Agrega el código a la función `getRandomPost` que te permita obtener un post aleatorio. Por ejemplo para la salida del post con id 1 deberías obtener lo siguiente:\n",
    "\n",
    "```json\n",
    "{\n",
    "  \"userId\": 1,\n",
    "  \"id\": 1,\n",
    "  \"title\": \"sunt aut facere repellat provident occaecati excepturi optio reprehenderit\",\n",
    "  \"body\": \"quia et suscipit\\nsuscipit recusandae consequuntur expedita et cum\\nreprehenderit molestiae ut ut quas totam\\nnostrum rerum est autem sunt rem eveniet architecto\"\n",
    "}\n",
    "```\n",
    "\n",
    "Recuerda retornar el contenido en formato `JSON`.\n",
    "\n",
    "Puedes usar `fetch` para el request a la ruta, recuerda que esta función retorna una promesa como resultado. `fetch` tiene cosas interesantes como poder entregarle un objeto como segundo argumento, permitiendo (por ejemplo) indicar el método (GET, POST, etc) a utilizar por el request.\n",
    "\n",
    "Si quisiera hacer un `PUT` a una dirección, podría hacerlo así:\n",
    "\n",
    "```javascript\n",
    "fetch(`/posts/${id}`, {\n",
    "  method: 'put',\n",
    "  headers: { 'Content-Type': 'application/json' },\n",
    "  body: JSON.stringify(data),\n",
    "});\n",
    "```\n",
    "\n",
    "Más información sobre `fetch` puedes conocerla acá: https://developer.mozilla.org/en-US/docs/Web/API/Fetch_API/Using_Fetch\n"
   ]
  },
  {
   "cell_type": "markdown",
   "metadata": {},
   "source": [
    "## Segunda parte - Componente Post\n",
    "\n",
    "En esta parte deberás crear el componente encargado de la presentación de la información (o *dumb component*). Este componente debe parecerse mucho al de la segunda imagen de arriba: que muestre un botón, el título y el cuerpo del post.\n",
    "\n",
    "Para esto:\n",
    "\n",
    "1. Crea un archivo `Post.jsx` dentro de la carpeta `/src/assets/js/components`\n",
    "2. Crea el componente. Deberá recibir en sus propiedades (`props`) el título, el cuerpo del post y una función que debe gatillarse al presionar el botón. **No te preocupes aún de su implementación**, sólo debes recibirla y asociarla al evento `onClick` del botón."
   ]
  },
  {
   "cell_type": "markdown",
   "metadata": {},
   "source": [
    "## Tercera Parte - \"Contenedor\" Post\n",
    "\n",
    "Ahora vamos a crear el *smart component* asociado al *dumb component* `Post` que creamos en la etapa pasada. En general, a los *smart component* también los llamaremos contenedores.\n",
    "\n",
    "Para esta partes debes:\n",
    "\n",
    "1. Crear la carpeta `containers` en `/src/assets/js/`\n",
    "2. Dentro de esta carpeta, crea un archivo que se llame `Post.jsx`\n",
    "3. Completa ese archivo con el siguiente código:\n",
    "\n",
    "```javascript\n",
    "import React, { Component } from 'react';\n",
    "import postsService from '../services/posts';\n",
    "import PostComponent from '../components/Post';\n",
    "\n",
    "export default class Post extends Component {\n",
    "  constructor(props) {\n",
    "    super(props);\n",
    "    /* \n",
    "     * Aquí deberías inicializar el estado con:\n",
    "     * el título del post, su contenido y un flag para indicar\n",
    "     * si está cargando un post\n",
    "     */\n",
    "    \n",
    "    this.fetchNewPost = this.fetchNewPost.bind(this);             \n",
    "  }\n",
    "\n",
    "  componentDidMount() {\n",
    "    this.fetchNewPost();\n",
    "  }\n",
    "\n",
    "  async fetchNewPost() {\n",
    "    /* \n",
    "     * Completar con el código para cargar un nuevo post\n",
    "     * Colocar el flag de cargando en true, cargar el post y actualizar estado\n",
    "     */\n",
    "  }\n",
    "\n",
    "  render() {\n",
    "    // Si está cargando un post debería mostrar el texto \"Loading...\" (o cargando)\n",
    "    // Si no está cargando, debe mostrar PostComponent con las props que necesita\n",
    "  }\n",
    "}\n",
    "```\n",
    "\n",
    "Espera! ¿De dónde salió ese método `componentDidMount`? Este método pertenece a lo que se conoce como los métodos del ciclo de vida del componente (o *lifecycle component methods*). En este caso particular, `componentDidMount` es un método que se llama inmediatamente después de montar el componente.\n",
    "\n",
    "Existen otro métodos, puedes revisarlos aquí: https://reactjs.org/docs/react-component.html"
   ]
  },
  {
   "cell_type": "markdown",
   "metadata": {},
   "source": [
    "## ¡Probemos!\n",
    "\n",
    "Si ya has modificado el archivo `/src/assets/js/app.jsx` entonces debes cargar el archivo ubicado en `/src/assets/js/containers/Post.jsx` y colocarlo en algún identificador.\n",
    "\n",
    "Si no lo has modificado anteriormente, sólo debes cambiar la línea 3 de `/src/assets/js/app.jsx` de esto:\n",
    "\n",
    "```javascript\n",
    "import App from './components/App';\n",
    "```\n",
    "\n",
    "a\n",
    "\n",
    "```javascript\n",
    "import App from './containers/Post';\n",
    "```\n",
    "\n",
    "Y luego vas a `http://localhost:3000`. Ahí podrás ver si todo está bien o debes reparar ciertos errores ;)"
   ]
  },
  {
   "cell_type": "markdown",
   "metadata": {},
   "source": [
    "## ¿Cómo funciona esto?\n",
    "\n",
    "Bueno, lo que estamos haciendo es cargar el *smart component* `Post`. Una vez montado este componente, se llama al método `componentDidMount`, que provoca la carga de un post aleatorio (utilizando nuestro método en `services`).\n",
    "\n",
    "Luego las cargas sucesivas se harán cada vez que se presione el botón de nuestro *dumb component* `Post`.\n",
    "\n",
    "Algunas cosas **muy importantes** de este ejercicio:\n",
    "\n",
    "* Recuerdas la frase: *properties flow down, actions flow up*. Tu lo puedes ver en este ejemplo! En el *dumb component* `Post` tu recibes el título, el cuerpo y una referencia a función. Entonces, las propiedades como el título y cuerpo vienen del *smart component* (o contenedor); pero al hacer click en el botón lo único que está diciendo es que fue presionado, y la acción es resuelta por el contenedor! (`fetchNewPost`).\n",
    "\n",
    "* En el contenedor, puedes ver que tiene estado, métodos del ciclo de vida y una función más compleja para mostrar el componente. Esta es justamente la labor de este componente, y por eso se le conoce como *smart component*.\n"
   ]
  }
 ],
 "metadata": {
  "kernelspec": {
   "display_name": "NodeJS",
   "language": "javascript",
   "name": "nodejs"
  },
  "language_info": {
   "codemirror_mode": "javascript",
   "file_extension": ".js",
   "mimetype": "text/javascript",
   "name": "nodejs",
   "pygments_lexer": "javascript",
   "version": "0.10"
  }
 },
 "nbformat": 4,
 "nbformat_minor": 2
}
